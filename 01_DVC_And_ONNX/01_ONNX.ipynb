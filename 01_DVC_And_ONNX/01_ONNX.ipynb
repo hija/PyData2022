{
 "cells": [
  {
   "cell_type": "code",
   "execution_count": 42,
   "metadata": {},
   "outputs": [],
   "source": [
    "# Now we use ONNX instead of pickle\n",
    "from sklearn.tree import DecisionTreeClassifier\n",
    "from sklearn.datasets import load_wine\n",
    "from sklearn.model_selection import train_test_split\n",
    "\n",
    "from onnxruntime import InferenceSession\n",
    "from skl2onnx import to_onnx\n",
    "import onnx\n",
    "import numpy as np"
   ]
  },
  {
   "cell_type": "code",
   "execution_count": 3,
   "metadata": {},
   "outputs": [],
   "source": [
    "dataset = load_wine()"
   ]
  },
  {
   "cell_type": "code",
   "execution_count": 4,
   "metadata": {},
   "outputs": [],
   "source": [
    "X_train, X_test, y_train, y_test = train_test_split(dataset['data'], dataset['target'])"
   ]
  },
  {
   "cell_type": "code",
   "execution_count": 5,
   "metadata": {},
   "outputs": [
    {
     "data": {
      "text/plain": [
       "DecisionTreeClassifier()"
      ]
     },
     "execution_count": 5,
     "metadata": {},
     "output_type": "execute_result"
    }
   ],
   "source": [
    "model = DecisionTreeClassifier()\n",
    "model.fit(X_train, y_train)"
   ]
  },
  {
   "cell_type": "code",
   "execution_count": 43,
   "metadata": {},
   "outputs": [],
   "source": [
    "# We convert our sklearn model to an onnx model\n",
    "onnx_model = to_onnx(model, X_train[:1].astype(np.float32), target_opset=11)\n",
    "# And save it\n",
    "onnx.save(onnx_model, 'data/wine_dt_cf.onnx')"
   ]
  },
  {
   "cell_type": "code",
   "execution_count": 50,
   "metadata": {},
   "outputs": [
    {
     "name": "stdout",
     "output_type": "stream",
     "text": [
      "True\n"
     ]
    }
   ],
   "source": [
    "# Now we load the ONXX Model\n",
    "sess = InferenceSession('data/wine_dt_cf.onnx')\n",
    "# And predict our X_test dataset\n",
    "pred_ort = sess.run(None, {'X': X_test.astype(np.float32)})[0]\n",
    "\n",
    "# Additionally we predict with the sklearn model itself (not ONNX)\n",
    "pred_skl = model.predict(X_test.astype(np.float32))\n",
    "\n",
    "# All predictions are the same :-)\n",
    "print(np.all(pred_ort == pred_skl))\n"
   ]
  }
 ],
 "metadata": {
  "interpreter": {
   "hash": "70d1c9da930b78b797d40bca365a42004d55f6fa36c41a06f8c1dc1a2deabfe7"
  },
  "kernelspec": {
   "display_name": "Python 3.10.4 ('dask')",
   "language": "python",
   "name": "python3"
  },
  "language_info": {
   "codemirror_mode": {
    "name": "ipython",
    "version": 3
   },
   "file_extension": ".py",
   "mimetype": "text/x-python",
   "name": "python",
   "nbconvert_exporter": "python",
   "pygments_lexer": "ipython3",
   "version": "3.10.4"
  },
  "orig_nbformat": 4
 },
 "nbformat": 4,
 "nbformat_minor": 2
}
