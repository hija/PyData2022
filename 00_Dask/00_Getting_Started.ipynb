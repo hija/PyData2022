{
 "cells": [
  {
   "cell_type": "markdown",
   "metadata": {},
   "source": [
    "# Getting Started with Dask\n",
    "\n",
    "I installed dask via conda :-)"
   ]
  },
  {
   "cell_type": "code",
   "execution_count": null,
   "metadata": {},
   "outputs": [],
   "source": [
    "# Import libraries\n",
    "import numpy as np\n",
    "import pandas as pd\n",
    "\n",
    "import dask.dataframe as dd\n",
    "import dask.array as da\n",
    "import dask\n",
    "from dask.distributed import Client"
   ]
  },
  {
   "cell_type": "code",
   "execution_count": null,
   "metadata": {},
   "outputs": [],
   "source": [
    "# Create a client. Here you could also connect to a cluster\n",
    "client = Client(n_workers=4)\n",
    "# Let's checkout\n",
    "client.dashboard_link"
   ]
  },
  {
   "cell_type": "code",
   "execution_count": null,
   "metadata": {},
   "outputs": [],
   "source": [
    "# Read dataset from git\n",
    "df = dd.read_csv('data/taiwanese-bankruptcy.csv', dtype={' Research and development expense rate': 'float64',\n",
    "       ' Total Asset Growth Rate': 'float64'})"
   ]
  },
  {
   "cell_type": "code",
   "execution_count": null,
   "metadata": {},
   "outputs": [],
   "source": [
    "def start_pipeline(df: dd):\n",
    "    return df.copy()\n",
    "\n",
    "def rename_columns(df: dd):\n",
    "    columns = df.columns.to_list()\n",
    "    columns_without_spaces = [column.strip() for column in columns]\n",
    "    return df.rename(columns=dict(zip(columns, columns_without_spaces)))\n",
    "\n",
    "\n",
    "cleaned_dataset = (df.pipe(start_pipeline)\n",
    "                    .pipe(rename_columns))\n",
    "\n",
    "# Because we cleaned it now, we can persist the result, so we do not need to recompute it all the time\n",
    "# It's interesting to see, how the CPU usage differs if this command is not called and the other cells are called subsequently\n",
    "cleaned_dataset = cleaned_dataset.persist()"
   ]
  },
  {
   "cell_type": "code",
   "execution_count": null,
   "metadata": {},
   "outputs": [],
   "source": [
    "mean_after_tax_net_interestrate = cleaned_dataset['After-tax net Interest Rate'].mean() # Gets not computed yet\n",
    "mean_operating_gross_margin = cleaned_dataset['Operating Gross Margin'].mean() # Gets not computed yet\n",
    "\n",
    "print(mean_after_tax_net_interestrate, mean_operating_gross_margin)\n",
    "\n",
    "# Let's compute it\n",
    "mean_after_tax_net_interestrate_computed, mean_operating_gross_margin_computed = dask.compute(mean_after_tax_net_interestrate, mean_operating_gross_margin)\n",
    "print(mean_after_tax_net_interestrate_computed, mean_operating_gross_margin_computed)"
   ]
  },
  {
   "cell_type": "code",
   "execution_count": null,
   "metadata": {},
   "outputs": [],
   "source": [
    "# Calculate correlation (20x so we can see it in the dashboard)\n",
    "for i in range(200):\n",
    "    cleaned_dataset.corr().compute()"
   ]
  },
  {
   "cell_type": "code",
   "execution_count": null,
   "metadata": {},
   "outputs": [],
   "source": [
    "client.close()"
   ]
  }
 ],
 "metadata": {
  "interpreter": {
   "hash": "70d1c9da930b78b797d40bca365a42004d55f6fa36c41a06f8c1dc1a2deabfe7"
  },
  "kernelspec": {
   "display_name": "GrafZahl",
   "language": "python",
   "name": "python3"
  },
  "language_info": {
   "codemirror_mode": {
    "name": "ipython",
    "version": 3
   },
   "file_extension": ".py",
   "mimetype": "text/x-python",
   "name": "python",
   "nbconvert_exporter": "python",
   "pygments_lexer": "ipython3",
   "version": "3.10.4"
  },
  "orig_nbformat": 4
 },
 "nbformat": 4,
 "nbformat_minor": 2
}
